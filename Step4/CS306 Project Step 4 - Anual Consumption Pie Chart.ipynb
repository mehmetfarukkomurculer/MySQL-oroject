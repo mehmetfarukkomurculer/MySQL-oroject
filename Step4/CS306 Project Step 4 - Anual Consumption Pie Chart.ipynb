{
 "cells": [
  {
   "cell_type": "code",
   "execution_count": 45,
   "id": "a5b2480f",
   "metadata": {
    "scrolled": true
   },
   "outputs": [
    {
     "name": "stdout",
     "output_type": "stream",
     "text": [
      "Requirement already satisfied: pandas in c:\\users\\yiğit yarkın\\appdata\\local\\programs\\python\\python39\\lib\\site-packages (2.0.1)\n",
      "Requirement already satisfied: python-dateutil>=2.8.2 in c:\\users\\yiğit yarkın\\appdata\\local\\programs\\python\\python39\\lib\\site-packages (from pandas) (2.8.2)\n",
      "Requirement already satisfied: pytz>=2020.1 in c:\\users\\yiğit yarkın\\appdata\\local\\programs\\python\\python39\\lib\\site-packages (from pandas) (2023.3)\n",
      "Requirement already satisfied: tzdata>=2022.1 in c:\\users\\yiğit yarkın\\appdata\\local\\programs\\python\\python39\\lib\\site-packages (from pandas) (2023.3)\n",
      "Requirement already satisfied: numpy>=1.20.3 in c:\\users\\yiğit yarkın\\appdata\\local\\programs\\python\\python39\\lib\\site-packages (from pandas) (1.24.3)\n",
      "Requirement already satisfied: six>=1.5 in c:\\users\\yiğit yarkın\\appdata\\local\\programs\\python\\python39\\lib\\site-packages (from python-dateutil>=2.8.2->pandas) (1.16.0)\n",
      "Requirement already satisfied: matplotlib in c:\\users\\yiğit yarkın\\appdata\\local\\programs\\python\\python39\\lib\\site-packages (3.7.1)\n",
      "Requirement already satisfied: contourpy>=1.0.1 in c:\\users\\yiğit yarkın\\appdata\\local\\programs\\python\\python39\\lib\\site-packages (from matplotlib) (1.0.7)\n",
      "Requirement already satisfied: cycler>=0.10 in c:\\users\\yiğit yarkın\\appdata\\local\\programs\\python\\python39\\lib\\site-packages (from matplotlib) (0.11.0)\n",
      "Requirement already satisfied: fonttools>=4.22.0 in c:\\users\\yiğit yarkın\\appdata\\local\\programs\\python\\python39\\lib\\site-packages (from matplotlib) (4.39.4)\n",
      "Requirement already satisfied: kiwisolver>=1.0.1 in c:\\users\\yiğit yarkın\\appdata\\local\\programs\\python\\python39\\lib\\site-packages (from matplotlib) (1.4.4)\n",
      "Requirement already satisfied: numpy>=1.20 in c:\\users\\yiğit yarkın\\appdata\\local\\programs\\python\\python39\\lib\\site-packages (from matplotlib) (1.24.3)\n",
      "Requirement already satisfied: packaging>=20.0 in c:\\users\\yiğit yarkın\\appdata\\local\\programs\\python\\python39\\lib\\site-packages (from matplotlib) (23.1)\n",
      "Requirement already satisfied: pillow>=6.2.0 in c:\\users\\yiğit yarkın\\appdata\\local\\programs\\python\\python39\\lib\\site-packages (from matplotlib) (9.5.0)\n",
      "Requirement already satisfied: pyparsing>=2.3.1 in c:\\users\\yiğit yarkın\\appdata\\local\\programs\\python\\python39\\lib\\site-packages (from matplotlib) (3.0.9)\n",
      "Requirement already satisfied: python-dateutil>=2.7 in c:\\users\\yiğit yarkın\\appdata\\local\\programs\\python\\python39\\lib\\site-packages (from matplotlib) (2.8.2)\n",
      "Requirement already satisfied: importlib-resources>=3.2.0 in c:\\users\\yiğit yarkın\\appdata\\local\\programs\\python\\python39\\lib\\site-packages (from matplotlib) (5.12.0)\n",
      "Requirement already satisfied: zipp>=3.1.0 in c:\\users\\yiğit yarkın\\appdata\\local\\programs\\python\\python39\\lib\\site-packages (from importlib-resources>=3.2.0->matplotlib) (3.15.0)\n",
      "Requirement already satisfied: six>=1.5 in c:\\users\\yiğit yarkın\\appdata\\local\\programs\\python\\python39\\lib\\site-packages (from python-dateutil>=2.7->matplotlib) (1.16.0)\n",
      "Requirement already satisfied: mysql-connector-python in c:\\users\\yiğit yarkın\\appdata\\local\\programs\\python\\python39\\lib\\site-packages (8.0.33)\n",
      "Requirement already satisfied: protobuf<=3.20.3,>=3.11.0 in c:\\users\\yiğit yarkın\\appdata\\local\\programs\\python\\python39\\lib\\site-packages (from mysql-connector-python) (3.20.3)\n"
     ]
    }
   ],
   "source": [
    "!pip install pandas\n",
    "!pip install matplotlib\n",
    "!pip install mysql-connector-python"
   ]
  },
  {
   "cell_type": "code",
   "execution_count": 168,
   "id": "bd0b54fe",
   "metadata": {},
   "outputs": [],
   "source": [
    "import pandas as pd\n",
    "import numpy as np\n",
    "import matplotlib.pyplot as plt\n",
    "import matplotlib.cm as cm\n",
    "import mysql.connector"
   ]
  },
  {
   "cell_type": "code",
   "execution_count": 169,
   "id": "3712b8dc",
   "metadata": {},
   "outputs": [],
   "source": [
    "cnx = mysql.connector.connect(\n",
    "    host='localhost',\n",
    "    user='root',\n",
    "    password='Afg64!Gcd000',\n",
    "    database='generation'\n",
    ")"
   ]
  },
  {
   "cell_type": "code",
   "execution_count": 184,
   "id": "24665f8d",
   "metadata": {},
   "outputs": [],
   "source": [
    "cursor = cnx.cursor()\n",
    "query = \"SELECT * FROM has_annual_consumption\"\n",
    "cursor.execute(query)\n",
    "result = cursor.fetchall()\n",
    "\n",
    "df = pd.DataFrame(result, columns=[column[0] for column in cursor.description])\n",
    "\n"
   ]
  },
  {
   "cell_type": "code",
   "execution_count": 185,
   "id": "ebde98c7",
   "metadata": {},
   "outputs": [
    {
     "name": "stdout",
     "output_type": "stream",
     "text": [
      "   Code  Year  Primary energy consumption (TWh)   \n",
      "0   DZA  1965                        24832647.0  \\\n",
      "1   DZA  1966                        29832527.0   \n",
      "2   DZA  1967                        28247406.0   \n",
      "3   DZA  1968                        30344986.0   \n",
      "4   DZA  1969                        33539192.0   \n",
      "5   DZA  1970                          367589.0   \n",
      "6   DZA  1971                        39732845.0   \n",
      "7   DZA  1972                         4464785.0   \n",
      "8   DZA  1973                         5325068.0   \n",
      "9   DZA  1974                        58908936.0   \n",
      "10  DZA  1975                         7036968.0   \n",
      "11  DZA  1976                         8210211.0   \n",
      "12  DZA  1977                          902126.0   \n",
      "13  DZA  1978                        11336147.0   \n",
      "14  DZA  1979                         1485402.0   \n",
      "15  DZA  1980                        17714294.0   \n",
      "16  DZA  1981                        21518619.0   \n",
      "17  DZA  1982                        24811212.0   \n",
      "18  DZA  1983                        27096667.0   \n",
      "19  DZA  1984                         2601962.0   \n",
      "20  DZA  1985                        26229657.0   \n",
      "21  DZA  1986                        27749054.0   \n",
      "22  DZA  1987                         2851681.0   \n",
      "23  DZA  1988                         3054218.0   \n",
      "24  DZA  1989                        29706827.0   \n",
      "25  DZA  1990                        31497372.0   \n",
      "26  DZA  1991                         3120951.0   \n",
      "27  DZA  1992                         3202269.0   \n",
      "28  DZA  1993                          297995.0   \n",
      "29  DZA  1994                         3019211.0   \n",
      "30  DZA  1995                        31314484.0   \n",
      "31  DZA  1996                        30992474.0   \n",
      "32  DZA  1997                        29785974.0   \n",
      "33  DZA  1998                          308349.0   \n",
      "34  DZA  1999                        31143417.0   \n",
      "35  DZA  2000                        29994565.0   \n",
      "36  DZA  2001                        31081296.0   \n",
      "37  DZA  2002                        32195053.0   \n",
      "38  DZA  2003                        33692212.0   \n",
      "39  DZA  2004                         3497778.0   \n",
      "40  DZA  2005                        36627155.0   \n",
      "41  DZA  2006                        37922003.0   \n",
      "42  DZA  2007                        39963977.0   \n",
      "43  DZA  2008                        42355692.0   \n",
      "44  DZA  2009                        44885934.0   \n",
      "45  DZA  2010                         4389949.0   \n",
      "46  DZA  2011                        46448828.0   \n",
      "47  DZA  2012                        50767188.0   \n",
      "48  DZA  2013                         5369768.0   \n",
      "49  DZA  2014                         5856133.0   \n",
      "\n",
      "    Renewables (TWh - equivalent)  Fossil Fuels (TWh - equivalent)  \n",
      "0                    1.182796e+07                        2364985.0  \n",
      "1                    1.049731e+07                       28782795.0  \n",
      "2                    1.212366e+07                       27035038.0  \n",
      "3                    1.664785e+06                       28680202.0  \n",
      "4                    1.067473e+06                       32471718.0  \n",
      "5                    1.715054e+07                       35043846.0  \n",
      "6                    9.758064e-01                        3875704.0  \n",
      "7                    1.463710e+07                        4318414.0  \n",
      "8                    2.223656e+07                       51027023.0  \n",
      "9                    1.469624e+07                        5743931.0  \n",
      "10                   9.698925e-01                        6939979.0  \n",
      "11                   1.150269e+07                        8095184.0  \n",
      "12                   7.954300e-01                       89417175.0  \n",
      "13                   7.392473e-01                       11262222.0  \n",
      "14                   8.604839e-01                       14767972.0  \n",
      "15                   7.599461e-01                         176383.0  \n",
      "16                   1.082258e+07                       21410391.0  \n",
      "17                   1.416398e+07                       24669571.0  \n",
      "18                   6.948925e-01                       27027176.0  \n",
      "19                   1.336559e+06                       25885962.0  \n",
      "20                   1.910215e+06                       26038635.0  \n",
      "21                   7.392473e-01                       27675128.0  \n",
      "22                   1.475538e+07                       28369257.0  \n",
      "23                   5.411292e-01                       30488068.0  \n",
      "24                   6.682794e-01                            296.4  \n",
      "25                   3.991936e-01                       31457452.0  \n",
      "26                   8.663977e-01                       31122867.0  \n",
      "27                   5.884408e-01                       31963843.0  \n",
      "28                   1.043817e+07                       29695114.0  \n",
      "29                   4.908603e-01                       30143024.0  \n",
      "30                   5.706989e-01                       31257413.0  \n",
      "31                   3.991936e-01                        3095255.0  \n",
      "32                   2.217742e-01                         297638.0  \n",
      "33                   6.357528e-01                       30771323.0  \n",
      "34                   6.002689e-01                       31083392.0  \n",
      "35                   1.596775e-01                       29978595.0  \n",
      "36                   2.027075e-01                       31061023.0  \n",
      "37                   1.663736e-01                       32178415.0  \n",
      "38                   7.685327e-01                       33615356.0  \n",
      "39                   7.232947e-01                        3490545.0  \n",
      "40                   1.590054e+07                       36468146.0  \n",
      "41                   6.191600e-01                        3786009.0  \n",
      "42                   6.390423e-01                        3990007.0  \n",
      "43                   7.952464e-01                       42276166.0  \n",
      "44                   9.551075e-01                        4479042.0  \n",
      "45                   5.054253e-01                       43848944.0  \n",
      "46                   1.092755e+07                        4633955.0  \n",
      "47                   1.139886e+07                       50653198.0  \n",
      "48                   3.477633e-01                         536629.0  \n",
      "49                   6.881100e-01                        5849252.0  \n"
     ]
    }
   ],
   "source": [
    "print(df.head(50))"
   ]
  },
  {
   "cell_type": "code",
   "execution_count": 186,
   "id": "95d33346",
   "metadata": {},
   "outputs": [
    {
     "data": {
      "text/html": [
       "<div>\n",
       "<style scoped>\n",
       "    .dataframe tbody tr th:only-of-type {\n",
       "        vertical-align: middle;\n",
       "    }\n",
       "\n",
       "    .dataframe tbody tr th {\n",
       "        vertical-align: top;\n",
       "    }\n",
       "\n",
       "    .dataframe thead th {\n",
       "        text-align: right;\n",
       "    }\n",
       "</style>\n",
       "<table border=\"1\" class=\"dataframe\">\n",
       "  <thead>\n",
       "    <tr style=\"text-align: right;\">\n",
       "      <th></th>\n",
       "      <th>Code</th>\n",
       "      <th>Fossil Fuels (TWh - equivalent)</th>\n",
       "    </tr>\n",
       "  </thead>\n",
       "  <tbody>\n",
       "    <tr>\n",
       "      <th>10</th>\n",
       "      <td>Other</td>\n",
       "      <td>3.123627e+10</td>\n",
       "    </tr>\n",
       "    <tr>\n",
       "      <th>0</th>\n",
       "      <td>ARG</td>\n",
       "      <td>1.942117e+09</td>\n",
       "    </tr>\n",
       "    <tr>\n",
       "      <th>1</th>\n",
       "      <td>CZE</td>\n",
       "      <td>1.792209e+09</td>\n",
       "    </tr>\n",
       "    <tr>\n",
       "      <th>8</th>\n",
       "      <td>ISL</td>\n",
       "      <td>1.707432e+09</td>\n",
       "    </tr>\n",
       "    <tr>\n",
       "      <th>3</th>\n",
       "      <td>ECU</td>\n",
       "      <td>1.649981e+09</td>\n",
       "    </tr>\n",
       "    <tr>\n",
       "      <th>5</th>\n",
       "      <td>IDN</td>\n",
       "      <td>1.565096e+09</td>\n",
       "    </tr>\n",
       "    <tr>\n",
       "      <th>4</th>\n",
       "      <td>EST</td>\n",
       "      <td>1.552876e+09</td>\n",
       "    </tr>\n",
       "    <tr>\n",
       "      <th>2</th>\n",
       "      <td>DEU</td>\n",
       "      <td>1.533059e+09</td>\n",
       "    </tr>\n",
       "    <tr>\n",
       "      <th>7</th>\n",
       "      <td>IRQ</td>\n",
       "      <td>1.466054e+09</td>\n",
       "    </tr>\n",
       "    <tr>\n",
       "      <th>9</th>\n",
       "      <td>JPN</td>\n",
       "      <td>1.464413e+09</td>\n",
       "    </tr>\n",
       "    <tr>\n",
       "      <th>6</th>\n",
       "      <td>IND</td>\n",
       "      <td>1.438682e+09</td>\n",
       "    </tr>\n",
       "  </tbody>\n",
       "</table>\n",
       "</div>"
      ],
      "text/plain": [
       "     Code  Fossil Fuels (TWh - equivalent)\n",
       "10  Other                     3.123627e+10\n",
       "0     ARG                     1.942117e+09\n",
       "1     CZE                     1.792209e+09\n",
       "8     ISL                     1.707432e+09\n",
       "3     ECU                     1.649981e+09\n",
       "5     IDN                     1.565096e+09\n",
       "4     EST                     1.552876e+09\n",
       "2     DEU                     1.533059e+09\n",
       "7     IRQ                     1.466054e+09\n",
       "9     JPN                     1.464413e+09\n",
       "6     IND                     1.438682e+09"
      ]
     },
     "execution_count": 186,
     "metadata": {},
     "output_type": "execute_result"
    }
   ],
   "source": [
    "## Find the highest total fossil fuel consuming countries across all the years. \n",
    "df_c = df.copy()\n",
    "df_c = df_c.drop(['Year', 'Primary energy consumption (TWh)', 'Renewables (TWh - equivalent)'], axis=1) \n",
    "df_c = df_c.groupby(['Code'])['Fossil Fuels (TWh - equivalent)'].sum().reset_index().sort_values('Fossil Fuels (TWh - equivalent)', ascending = False).iloc[:,:]\n",
    "\n",
    "df_c.reset_index(drop=True, inplace=True)\n",
    "## Label all the countries besides the top 10 fossil fuel consuming ones as \"Other\" and sum their results. \n",
    "df_c.loc[10:, 'Code'] = 'Other'\n",
    "df_c = df_c.groupby(['Code'])['Fossil Fuels (TWh - equivalent)'].sum().reset_index().sort_values('Fossil Fuels (TWh - equivalent)', ascending = False).iloc[:,:]\n",
    "\n",
    "df_c.head(100)\n"
   ]
  },
  {
   "cell_type": "code",
   "execution_count": 187,
   "id": "c3296a5a",
   "metadata": {
    "scrolled": true
   },
   "outputs": [
    {
     "data": {
      "text/plain": [
       "<matplotlib.legend.Legend at 0x2b656a78f70>"
      ]
     },
     "execution_count": 187,
     "metadata": {},
     "output_type": "execute_result"
    },
    {
     "data": {
      "image/png": "[encoded data removed]",
      "text/plain": [
       "<Figure size 640x480 with 1 Axes>"
      ]
     },
     "metadata": {},
     "output_type": "display_data"
    }
   ],
   "source": [
    "## Plot those countries' piechart based on participation on fossil fuel consumption.\n",
    "df_c.groupby(['Code']).sum().plot(kind='pie', y='Fossil Fuels (TWh - equivalent)', autopct='%1.0f%%', textprops={'fontsize': 8},\n",
    "                                  colors = ['red', 'yellow', 'green', 'blue', 'orange', 'purple'],\n",
    "                                  title='Participation rates of the top 10 fossil fuel consuming countries')\n",
    "\n",
    "plt.legend('', frameon=False)"
   ]
  }
 ],
 "metadata": {
  "kernelspec": {
   "display_name": "Python 3 (ipykernel)",
   "language": "python",
   "name": "python3"
  },
  "language_info": {
   "codemirror_mode": {
    "name": "ipython",
    "version": 3
   },
   "file_extension": ".py",
   "mimetype": "text/x-python",
   "name": "python",
   "nbconvert_exporter": "python",
   "pygments_lexer": "ipython3",
   "version": "3.9.0"
  }
 },
 "nbformat": 4,
 "nbformat_minor": 5
}
